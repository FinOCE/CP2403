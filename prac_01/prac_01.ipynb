{
 "cells": [
  {
   "cell_type": "markdown",
   "metadata": {},
   "source": [
    "# First Name: Finley\n",
    "# Last Name: Sherwood"
   ]
  },
  {
   "cell_type": "markdown",
   "metadata": {},
   "source": [
    "# Importing libraries"
   ]
  },
  {
   "cell_type": "code",
   "execution_count": 1,
   "metadata": {},
   "outputs": [
    {
     "output_type": "stream",
     "name": "stdout",
     "text": [
      "Requirement already satisfied: pandas in c:\\users\\finle\\anaconda3\\lib\\site-packages (1.1.3)\n",
      "Requirement already satisfied: python-dateutil>=2.7.3 in c:\\users\\finle\\anaconda3\\lib\\site-packages (from pandas) (2.8.1)\n",
      "Requirement already satisfied: pytz>=2017.2 in c:\\users\\finle\\anaconda3\\lib\\site-packages (from pandas) (2020.1)\n",
      "Requirement already satisfied: numpy>=1.15.4 in c:\\users\\finle\\anaconda3\\lib\\site-packages (from pandas) (1.19.2)\n",
      "Requirement already satisfied: six>=1.5 in c:\\users\\finle\\appdata\\roaming\\python\\python38\\site-packages (from python-dateutil>=2.7.3->pandas) (1.15.0)\n",
      "Requirement already satisfied: numpy in c:\\users\\finle\\anaconda3\\lib\\site-packages (1.19.2)\n"
     ]
    }
   ],
   "source": [
    "!pip install pandas\n",
    "!pip install numpy"
   ]
  },
  {
   "cell_type": "code",
   "execution_count": 2,
   "metadata": {
    "collapsed": true
   },
   "outputs": [],
   "source": [
    "#import pandas & numpy\n",
    "import pandas as pd\n",
    "import numpy as np"
   ]
  },
  {
   "cell_type": "markdown",
   "metadata": {},
   "source": [
    "# 1. Read in the nesarc.csv file"
   ]
  },
  {
   "cell_type": "code",
   "execution_count": 3,
   "metadata": {
    "collapsed": true
   },
   "outputs": [],
   "source": [
    "#read in csv file into \n",
    "nesarc = pd.read_csv('nesarc.csv', low_memory=False) #increase efficiency"
   ]
  },
  {
   "cell_type": "markdown",
   "metadata": {},
   "source": [
    "# 2. Print the number of rows, columns in nesarc "
   ]
  },
  {
   "cell_type": "code",
   "execution_count": 9,
   "metadata": {
    "collapsed": true
   },
   "outputs": [
    {
     "output_type": "stream",
     "name": "stdout",
     "text": [
      "43093\n760\n"
     ]
    }
   ],
   "source": [
    "print (len(nesarc)) #number of rows (observations)\n",
    "print (len(nesarc.columns)) # number of columns (variables)"
   ]
  },
  {
   "cell_type": "markdown",
   "metadata": {},
   "source": [
    "# Printing the first 5 rows of nesarc"
   ]
  },
  {
   "cell_type": "code",
   "execution_count": 34,
   "metadata": {
    "collapsed": true
   },
   "outputs": [
    {
     "output_type": "stream",
     "name": "stdout",
     "text": [
      "   S3BQ1A1  ETHRACE2A ETOTLCA2  IDNUM    PSU  STRATUM       WEIGHT  CDAY  \\\n0        0          5               1   4007      403  3928.613505    14   \n1        1          5   0.0014      2   6045      604  3638.691845    12   \n2        2          5               3  12042     1218  5779.032025    23   \n3        3          5               4  17099     1704  1071.754303     9   \n4        4          2               5  17099     1704  4986.952377    18   \n\n   CMON  CYEAR  ...  SOLP12ABDEP  HAL12ABDEP  HALP12ABDEP  MAR12ABDEP  \\\n0     8   2001  ...            0           0            0           0   \n1     1   2002  ...            0           0            0           0   \n2    11   2001  ...            0           0            0           0   \n3     9   2001  ...            0           0            0           0   \n4    10   2001  ...            0           0            0           0   \n\n   MARP12ABDEP  HER12ABDEP  HERP12ABDEP  OTHB12ABDEP  OTHBP12ABDEP  NDSymptoms  \n0            0           0            0            0             0         NaN  \n1            0           0            0            0             0         NaN  \n2            0           0            0            0             0         NaN  \n3            0           0            0            0             0         NaN  \n4            0           0            0            0             0         NaN  \n\n[5 rows x 760 columns]\n"
     ]
    }
   ],
   "source": [
    "print(nesarc.head(5)) #print the first five rows"
   ]
  },
  {
   "cell_type": "markdown",
   "metadata": {},
   "source": [
    "# Convert Alcohol effects - 12 months (S2BQ1B1) to numeric & print first 10 rows"
   ]
  },
  {
   "cell_type": "code",
   "execution_count": 38,
   "metadata": {
    "collapsed": true
   },
   "outputs": [
    {
     "output_type": "stream",
     "name": "stdout",
     "text": [
      "0    NaN\n1    2.0\n2    NaN\n3    NaN\n4    NaN\n5    2.0\n6    2.0\n7    2.0\n8    2.0\n9    1.0\nName: S2BQ1B1, dtype: float64\n"
     ]
    }
   ],
   "source": [
    "#Read in Alcohol effects - 12 months (S2BQ1B1)\n",
    "nesarc['S2BQ1B1'] = pd.to_numeric(nesarc['S2BQ1B1'], errors='coerce') #convert variable to numeric\n",
    "print(nesarc['S2BQ1B1'].head(10))#print the first 10 rows"
   ]
  },
  {
   "cell_type": "markdown",
   "metadata": {},
   "source": [
    "# Print the count and percentage of  Alcohol effects - 12 months (S2BQ1B1)"
   ]
  },
  {
   "cell_type": "code",
   "execution_count": 42,
   "metadata": {
    "collapsed": true
   },
   "outputs": [
    {
     "output_type": "stream",
     "name": "stdout",
     "text": [
      "counts for S2BQ1B1 alcohol effect in the past 12 months, yes=1\n2.0    25309\n1.0     1326\n9.0      311\nName: S2BQ1B1, dtype: int64\npercentages for S2BQ1B1 alcohol effect in the past 12 months, yes=1\n2.0    0.939249\n1.0    0.049210\n9.0    0.011542\nName: S2BQ1B1, dtype: float64\n"
     ]
    }
   ],
   "source": [
    "#calculate counts for Alcohol effects - 12 months (S2BQ1B1) \n",
    "print ('counts for S2BQ1B1 alcohol effect in the past 12 months, yes=1') #better titles\n",
    "c_al_dep =  nesarc['S2BQ1B1'].value_counts(sort=False) #sort by values (not count)\n",
    "print (c_al_dep)\n",
    "\n",
    "#calculate percentages for Alcohol effects - 12 months (S2BQ1B1)\n",
    "print ('percentages for S2BQ1B1 alcohol effect in the past 12 months, yes=1') #better titles\n",
    "p_al_dep =  nesarc['S2BQ1B1'].value_counts(sort=False, normalize=True) #normalize=True will give percentage\n",
    "print (p_al_dep)"
   ]
  },
  {
   "cell_type": "markdown",
   "metadata": {},
   "source": [
    "# Convert Beer drinking status (S2AQ5A) to numeric & print first 10 rows "
   ]
  },
  {
   "cell_type": "code",
   "execution_count": 44,
   "metadata": {
    "collapsed": true
   },
   "outputs": [
    {
     "output_type": "execute_result",
     "data": {
      "text/plain": [
       "0     NaN\n",
       "1     1.0\n",
       "2     NaN\n",
       "3     NaN\n",
       "4     NaN\n",
       "5     2.0\n",
       "6     2.0\n",
       "7     2.0\n",
       "8     1.0\n",
       "9     2.0\n",
       "10    1.0\n",
       "11    2.0\n",
       "12    1.0\n",
       "13    1.0\n",
       "14    1.0\n",
       "15    NaN\n",
       "16    1.0\n",
       "17    NaN\n",
       "18    2.0\n",
       "19    1.0\n",
       "20    2.0\n",
       "21    1.0\n",
       "22    NaN\n",
       "23    NaN\n",
       "24    1.0\n",
       "Name: S2AQ5A, dtype: float64"
      ]
     },
     "metadata": {},
     "execution_count": 44
    }
   ],
   "source": [
    "nesarc['S2AQ5A'] = pd.to_numeric(nesarc['S2AQ5A'], errors='coerce') #convert smoking status to numeric\n",
    "nesarc['S2AQ5A'].head(25) #print the first 25"
   ]
  },
  {
   "cell_type": "markdown",
   "metadata": {},
   "source": [
    "# Print the count and percentage of  Beer drinking status (S2AQ5A)"
   ]
  },
  {
   "cell_type": "code",
   "execution_count": 45,
   "metadata": {
    "collapsed": true
   },
   "outputs": [
    {
     "output_type": "stream",
     "name": "stdout",
     "text": [
      "counts for S2AQ5A beer drinking in the past year, yes=1\nNaN    16147\n1.0    18346\n2.0     8562\n9.0       38\nName: S2AQ5A, dtype: int64\npercentages for S2AQ5A beer drinking in the past year, yes=1\nNaN    0.374701\n1.0    0.425730\n2.0    0.198687\n9.0    0.000882\nName: S2AQ5A, dtype: float64\n"
     ]
    }
   ],
   "source": [
    "c_beer_status = nesarc['S2AQ5A'].value_counts(sort=False, dropna=False) #dropna=False to keep NaN in calculation\n",
    "print ('counts for S2AQ5A beer drinking in the past year, yes=1')\n",
    "print(c_beer_status)\n",
    "\n",
    "p_beer_status = nesarc['S2AQ5A'].value_counts(sort=False, normalize=True, dropna=False)\n",
    "print ('percentages for S2AQ5A beer drinking in the past year, yes=1')\n",
    "print (p_beer_status)"
   ]
  },
  {
   "cell_type": "markdown",
   "metadata": {},
   "source": [
    "# Convert HOW OFTEN DRANK BEER IN LAST 12 MONTHS (S2AQ5B) to numeric & print first 10 rows"
   ]
  },
  {
   "cell_type": "code",
   "execution_count": 46,
   "metadata": {
    "collapsed": true
   },
   "outputs": [
    {
     "output_type": "execute_result",
     "data": {
      "text/plain": [
       "0     NaN\n",
       "1    10.0\n",
       "2     NaN\n",
       "3     NaN\n",
       "4     NaN\n",
       "5     NaN\n",
       "6     NaN\n",
       "7     NaN\n",
       "8     9.0\n",
       "9     NaN\n",
       "Name: S2AQ5B, dtype: float64"
      ]
     },
     "metadata": {},
     "execution_count": 46
    }
   ],
   "source": [
    "nesarc['S2AQ5B'] = pd.to_numeric(nesarc['S2AQ5B'], errors='coerce')\n",
    "nesarc['S2AQ5B'].head(10)"
   ]
  },
  {
   "cell_type": "markdown",
   "metadata": {},
   "source": [
    "# Print the count and percentage of HOW OFTEN DRANK BEER IN LAST 12 MONTHS (S2AQ5B)"
   ]
  },
  {
   "cell_type": "code",
   "execution_count": 47,
   "metadata": {
    "collapsed": true
   },
   "outputs": [
    {
     "output_type": "stream",
     "name": "stdout",
     "text": [
      "counts for S2AQ5B – usual frequency when drinking beer\n1.0       836\n2.0       645\n3.0      1535\n4.0      2190\n5.0      2451\n6.0      2603\n7.0      2127\n8.0      1194\n9.0      2268\n10.0     2442\n99.0       55\nNaN     24747\nName: S2AQ5B, dtype: int64\npercentages for S2AQ5B - usual frequency when drinking beer\n1.0     0.019400\n2.0     0.014968\n3.0     0.035621\n4.0     0.050820\n5.0     0.056877\n6.0     0.060404\n7.0     0.049358\n8.0     0.027708\n9.0     0.052630\n10.0    0.056668\n99.0    0.001276\nNaN     0.574270\nName: S2AQ5B, dtype: float64\n"
     ]
    }
   ],
   "source": [
    "nesarc['S2AQ5B'] = nesarc['S2AQ5B'].astype('category') #set the data type as categorical data\n",
    "\n",
    "c_beer_feq = nesarc['S2AQ5B'].value_counts(sort=False, dropna=False)\n",
    "print ('counts for S2AQ5B – usual frequency when drinking beer')\n",
    "print(c_beer_feq)\n",
    "\n",
    "p_beer_feq = nesarc['S2AQ5B'].value_counts(sort=False, normalize=True, dropna=False)\n",
    "print ('percentages for S2AQ5B - usual frequency when drinking beer')\n",
    "print (p_beer_feq)"
   ]
  },
  {
   "cell_type": "markdown",
   "metadata": {},
   "source": [
    "# Convert NUMBER OF BEERS USUALLY CONSUMED ON DAYS WHEN DRANK BEER IN LAST 12 MONTHS (S2AQ5D) to numeric & print first 10 rows"
   ]
  },
  {
   "cell_type": "code",
   "execution_count": 48,
   "metadata": {
    "collapsed": true
   },
   "outputs": [
    {
     "output_type": "execute_result",
     "data": {
      "text/plain": [
       "0    NaN\n",
       "1    1.0\n",
       "2    NaN\n",
       "3    NaN\n",
       "4    NaN\n",
       "5    NaN\n",
       "6    NaN\n",
       "7    NaN\n",
       "8    1.0\n",
       "9    NaN\n",
       "Name: S2AQ5D, dtype: float64"
      ]
     },
     "metadata": {},
     "execution_count": 48
    }
   ],
   "source": [
    "nesarc['S2AQ5D'] = pd.to_numeric(nesarc['S2AQ5D'], errors='coerce')\n",
    "nesarc['S2AQ5D'].head(10)"
   ]
  },
  {
   "cell_type": "markdown",
   "metadata": {},
   "source": [
    "# Print the count and percentage of NUMBER OF BEERS USUALLY CONSUMED ON DAYS WHEN DRANK BEER IN LAST 12 MONTHS (S2AQ5D)"
   ]
  },
  {
   "cell_type": "code",
   "execution_count": 49,
   "metadata": {
    "collapsed": true
   },
   "outputs": [
    {
     "output_type": "stream",
     "name": "stdout",
     "text": [
      "counts for S2AQ5D usual quantity when drink beer\nNaN     24747\n1.0      7122\n4.0      1224\n2.0      4938\n8.0       205\n16.0        1\n24.0       23\n25.0        1\n9.0        28\n5.0       507\n18.0       18\n14.0        6\n99.0       78\n11.0        6\n36.0        1\n42.0        1\n3.0      2564\n10.0      108\n6.0      1128\n12.0      231\n17.0        4\n13.0        3\n7.0       118\n30.0        3\n20.0        7\n15.0       21\nName: S2AQ5D, dtype: int64\npercentages for S2AQ5D usual quantity when drink beer\nNaN     0.574270\n1.0     0.165270\n4.0     0.028404\n2.0     0.114589\n8.0     0.004757\n16.0    0.000023\n24.0    0.000534\n25.0    0.000023\n9.0     0.000650\n5.0     0.011765\n18.0    0.000418\n14.0    0.000139\n99.0    0.001810\n11.0    0.000139\n36.0    0.000023\n42.0    0.000023\n3.0     0.059499\n10.0    0.002506\n6.0     0.026176\n12.0    0.005360\n17.0    0.000093\n13.0    0.000070\n7.0     0.002738\n30.0    0.000070\n20.0    0.000162\n15.0    0.000487\nName: S2AQ5D, dtype: float64\n"
     ]
    }
   ],
   "source": [
    "c_beer_quan = nesarc['S2AQ5D'].value_counts(sort=False, dropna=False)\n",
    "print ('counts for S2AQ5D usual quantity when drink beer')\n",
    "print(c_beer_quan)\n",
    "\n",
    "p_beer_quan = nesarc['S2AQ5D'].value_counts(sort=False, normalize=True, dropna=False)\n",
    "print ('percentages for S2AQ5D usual quantity when drink beer')\n",
    "print (p_beer_quan)"
   ]
  },
  {
   "cell_type": "markdown",
   "metadata": {},
   "source": [
    "# Use groupby () to calculate count & percentage for Alcohol effects - 12 months (S2BQ1B1)"
   ]
  },
  {
   "cell_type": "code",
   "execution_count": 50,
   "metadata": {
    "collapsed": true
   },
   "outputs": [
    {
     "output_type": "stream",
     "name": "stdout",
     "text": [
      "S2BQ1B1\n1.0     1326\n2.0    25309\n9.0      311\ndtype: int64\n"
     ]
    }
   ],
   "source": [
    "#count using groupby\n",
    "c_al_dep_alt = nesarc.groupby('S2BQ1B1').size()\n",
    "print(c_al_dep_alt)"
   ]
  },
  {
   "cell_type": "code",
   "execution_count": 51,
   "metadata": {
    "collapsed": true
   },
   "outputs": [
    {
     "output_type": "stream",
     "name": "stdout",
     "text": [
      "S2BQ1B1\n1.0     3.077066\n2.0    58.731116\n9.0     0.721695\ndtype: float64\n"
     ]
    }
   ],
   "source": [
    "p_al_dep_alt = nesarc.groupby('S2BQ1B1').size()*100/len(nesarc)\n",
    "print(p_al_dep_alt)"
   ]
  },
  {
   "cell_type": "markdown",
   "metadata": {},
   "source": [
    "# Obtain a subset of nesarc data, with the following criteria\n",
    "# Age from 26 to 50\n",
    "# Beer drinking status - S2AQ5A = Y"
   ]
  },
  {
   "cell_type": "code",
   "execution_count": 53,
   "metadata": {
    "collapsed": true
   },
   "outputs": [
    {
     "output_type": "stream",
     "name": "stdout",
     "text": [
      "counts for AGE\n32    502\n40    497\n48    377\n33    423\n41    445\n49    331\n26    325\n34    462\n42    463\n50    325\n27    397\n35    416\n43    398\n28    347\n36    464\n44    381\n29    407\n37    498\n45    434\n30    443\n38    504\n46    396\n31    453\n39    464\n47    365\nName: AGE, dtype: int64\npercentages for AGE\n32    0.047732\n40    0.047257\n48    0.035847\n33    0.040221\n41    0.042312\n49    0.031473\n26    0.030902\n34    0.043929\n42    0.044024\n50    0.030902\n27    0.037748\n35    0.039555\n43    0.037843\n28    0.032994\n36    0.044119\n44    0.036227\n29    0.038699\n37    0.047352\n45    0.041267\n30    0.042122\n38    0.047922\n46    0.037653\n31    0.043073\n39    0.044119\n47    0.034706\nName: AGE, dtype: float64\n"
     ]
    }
   ],
   "source": [
    "nesarc['AGE'] = pd.to_numeric(nesarc['AGE'], errors='coerce')\n",
    "\n",
    "#subset data to young adults age 26 to 50 who have drink beer in the past 12 months\n",
    "sub1 = nesarc[(nesarc['AGE']>=26) & (nesarc['AGE']<=50) & (nesarc['S2AQ5A']==True)]\n",
    "\n",
    "#make a copy of the new subsetted data\n",
    "sub2 = sub1.copy()\n",
    "\n",
    "c5 = sub2['AGE'].value_counts(sort=False)\n",
    "print ('counts for AGE')\n",
    "print(c5)\n",
    "\n",
    "p5 = sub2['AGE'].value_counts(sort=False, normalize=True)\n",
    "print ('percentages for AGE')\n",
    "print (p5)"
   ]
  },
  {
   "cell_type": "code",
   "execution_count": null,
   "metadata": {},
   "outputs": [],
   "source": []
  }
 ],
 "metadata": {
  "kernelspec": {
   "display_name": "Python 3",
   "language": "python",
   "name": "python3"
  },
  "language_info": {
   "codemirror_mode": {
    "name": "ipython",
    "version": 3
   },
   "file_extension": ".py",
   "mimetype": "text/x-python",
   "name": "python",
   "nbconvert_exporter": "python",
   "pygments_lexer": "ipython3",
   "version": "3.8.5-final"
  }
 },
 "nbformat": 4,
 "nbformat_minor": 2
}