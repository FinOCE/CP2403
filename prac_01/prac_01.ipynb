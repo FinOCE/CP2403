{
 "cells": [
  {
   "cell_type": "markdown",
   "metadata": {},
   "source": [
    "# First Name:\n",
    "# Last Name: "
   ]
  },
  {
   "cell_type": "markdown",
   "metadata": {},
   "source": [
    "# Importing libraries"
   ]
  },
  {
   "cell_type": "code",
   "execution_count": null,
   "metadata": {
    "collapsed": true
   },
   "outputs": [],
   "source": [
    "#import pandas & numpy\n",
    "import pandas as pd\n",
    "import numpy as np"
   ]
  },
  {
   "cell_type": "markdown",
   "metadata": {},
   "source": [
    "# 1. Read in the nesarc.csv file"
   ]
  },
  {
   "cell_type": "code",
   "execution_count": null,
   "metadata": {
    "collapsed": true
   },
   "outputs": [],
   "source": [
    "#read in csv file into \n",
    "nesarc = pd.read_csv('nesarc.csv', low_memory=False) #increase efficiency"
   ]
  },
  {
   "cell_type": "markdown",
   "metadata": {},
   "source": [
    "# 2. Print the number of rows, columns in nesarc "
   ]
  },
  {
   "cell_type": "code",
   "execution_count": null,
   "metadata": {
    "collapsed": true
   },
   "outputs": [],
   "source": [
    "print (len()) #number of rows (observations)\n",
    "print (len()) # number of columns (variables)"
   ]
  },
  {
   "cell_type": "markdown",
   "metadata": {},
   "source": [
    "# Printing the first 5 rows of nesarc"
   ]
  },
  {
   "cell_type": "code",
   "execution_count": null,
   "metadata": {
    "collapsed": true
   },
   "outputs": [],
   "source": [
    "#print the first five rows"
   ]
  },
  {
   "cell_type": "markdown",
   "metadata": {},
   "source": [
    "# Convert Alcohol effects - 12 months (S2BQ1B1) to numeric & print first 10 rows"
   ]
  },
  {
   "cell_type": "code",
   "execution_count": null,
   "metadata": {
    "collapsed": true
   },
   "outputs": [],
   "source": [
    "#Read in Alcohol effects - 12 months (S2BQ1B1)\n",
    "nesarc['S2BQ1B1'] = #convert variable to numeric\n",
    "#print the first 10 rows"
   ]
  },
  {
   "cell_type": "markdown",
   "metadata": {},
   "source": [
    "# Print the count and percentage of  Alcohol effects - 12 months (S2BQ1B1)"
   ]
  },
  {
   "cell_type": "code",
   "execution_count": null,
   "metadata": {
    "collapsed": true
   },
   "outputs": [],
   "source": [
    "#calculate counts for Alcohol effects - 12 months (S2BQ1B1) \n",
    "print ('counts for S2BQ1B1 alcohol effect in the past 12 months, yes=1') #better titles\n",
    "c_al_dep =  #sort by values (not count)\n",
    "print (c_al_dep)\n",
    "\n",
    "#calculate percentages for Alcohol effects - 12 months (S2BQ1B1)\n",
    "print ('percentages for S2BQ1B1 alcohol effect in the past 12 months, yes=1') #better titles\n",
    "p_al_dep =  #normalize=True will give percentage\n",
    "print (p_al_dep)"
   ]
  },
  {
   "cell_type": "markdown",
   "metadata": {},
   "source": [
    "# Convert Beer drinking status (S2AQ5A) to numeric & print first 10 rows "
   ]
  },
  {
   "cell_type": "code",
   "execution_count": null,
   "metadata": {
    "collapsed": true
   },
   "outputs": [],
   "source": [
    "nesarc['S2AQ5A'] =  #convert smoking status to numeric\n",
    "nesarc['S2AQ5A'] =  #print the first 25"
   ]
  },
  {
   "cell_type": "markdown",
   "metadata": {},
   "source": [
    "# Print the count and percentage of  Beer drinking status (S2AQ5A)"
   ]
  },
  {
   "cell_type": "code",
   "execution_count": null,
   "metadata": {
    "collapsed": true
   },
   "outputs": [],
   "source": [
    "c_beer_status =  #dropna=False to keep NaN in calculation\n",
    "print ('counts for S2AQ5A beer drinking in the past year, yes=1')\n",
    "print(c_beer_status)\n",
    "\n",
    "p_beer_status = \n",
    "print ('percentages for S2AQ5A beer drinking in the past year, yes=1')\n",
    "print (p_beer_status)"
   ]
  },
  {
   "cell_type": "markdown",
   "metadata": {},
   "source": [
    "# Convert HOW OFTEN DRANK BEER IN LAST 12 MONTHS (S2AQ5B) to numeric & print first 10 rows"
   ]
  },
  {
   "cell_type": "code",
   "execution_count": null,
   "metadata": {
    "collapsed": true
   },
   "outputs": [],
   "source": [
    "nesarc['S2AQ5B'] = \n",
    "nesarc['S2AQ5B'] = "
   ]
  },
  {
   "cell_type": "markdown",
   "metadata": {},
   "source": [
    "# Print the count and percentage of HOW OFTEN DRANK BEER IN LAST 12 MONTHS (S2AQ5B)"
   ]
  },
  {
   "cell_type": "code",
   "execution_count": null,
   "metadata": {
    "collapsed": true
   },
   "outputs": [],
   "source": [
    "nesarc['S2AQ5B'] = nesarc['S2AQ5B'].astype('category') #set the data type as categorical data\n",
    "\n",
    "c_beer_feq = \n",
    "print ('counts for S2AQ5B – usual frequency when drinking beer')\n",
    "print(c_beer_feq)\n",
    "\n",
    "p_beer_feq = \n",
    "print ('percentages for S2AQ5B - usual frequency when drinking beer')\n",
    "print (p_beer_feq)"
   ]
  },
  {
   "cell_type": "markdown",
   "metadata": {},
   "source": [
    "# Convert NUMBER OF BEERS USUALLY CONSUMED ON DAYS WHEN DRANK BEER IN LAST 12 MONTHS (S2AQ5D) to numeric & print first 10 rows"
   ]
  },
  {
   "cell_type": "code",
   "execution_count": null,
   "metadata": {
    "collapsed": true
   },
   "outputs": [],
   "source": [
    "nesarc['S2AQ5D'] = \n",
    "nesarc['S2AQ5D'] = "
   ]
  },
  {
   "cell_type": "markdown",
   "metadata": {},
   "source": [
    "# Print the count and percentage of NUMBER OF BEERS USUALLY CONSUMED ON DAYS WHEN DRANK BEER IN LAST 12 MONTHS (S2AQ5D)"
   ]
  },
  {
   "cell_type": "code",
   "execution_count": null,
   "metadata": {
    "collapsed": true
   },
   "outputs": [],
   "source": [
    "c_beer_quan = \n",
    "print ('counts for S2AQ5D usual quantity when drink beer')\n",
    "print(c_beer_quan)\n",
    "\n",
    "p_beer_quan = \n",
    "print ('percentages for S2AQ5D usual quantity when drink beer')\n",
    "print (p_beer_quan)"
   ]
  },
  {
   "cell_type": "markdown",
   "metadata": {},
   "source": [
    "# Use groupby () to calculate count & percentage for Alcohol effects - 12 months (S2BQ1B1)"
   ]
  },
  {
   "cell_type": "code",
   "execution_count": null,
   "metadata": {
    "collapsed": true
   },
   "outputs": [],
   "source": [
    "#count using groupby\n",
    "c_al_dep_alt = \n",
    "print(c_al_dep_alt)"
   ]
  },
  {
   "cell_type": "code",
   "execution_count": null,
   "metadata": {
    "collapsed": true
   },
   "outputs": [],
   "source": [
    "p_al_dep_alt = \n",
    "print(p_al_dep_alt)"
   ]
  },
  {
   "cell_type": "markdown",
   "metadata": {},
   "source": [
    "# Obtain a subset of nesarc data, with the following criteria\n",
    "# Age from 26 to 50\n",
    "# Beer drinking status - S2AQ5A = Y"
   ]
  },
  {
   "cell_type": "code",
   "execution_count": null,
   "metadata": {
    "collapsed": true
   },
   "outputs": [],
   "source": [
    "nesarc['AGE'] = \n",
    "\n",
    "#subset data to young adults age 26 to 50 who have drink beer in the past 12 months\n",
    "sub1=\n",
    "\n",
    "#make a copy of the new subsetted data\n",
    "sub2 = sub1.copy()\n",
    "\n",
    "c5 = sub2['AGE'].value_counts(sort=False)\n",
    "print ('counts for AGE')\n",
    "print(c5)\n",
    "\n",
    "p5 = sub2['AGE'].value_counts(sort=False, normalize=True)\n",
    "print ('percentages for AGE')\n",
    "print (p5)"
   ]
  }
 ],
 "metadata": {
  "kernelspec": {
   "display_name": "Python 3",
   "language": "python",
   "name": "python3"
  },
  "language_info": {
   "codemirror_mode": {
    "name": "ipython",
    "version": 3
   },
   "file_extension": ".py",
   "mimetype": "text/x-python",
   "name": "python",
   "nbconvert_exporter": "python",
   "pygments_lexer": "ipython3",
   "version": "3.6.3"
  }
 },
 "nbformat": 4,
 "nbformat_minor": 2
}
